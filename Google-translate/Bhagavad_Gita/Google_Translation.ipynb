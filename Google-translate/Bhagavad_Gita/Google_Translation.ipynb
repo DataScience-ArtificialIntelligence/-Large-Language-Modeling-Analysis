{
  "cells": [
    {
      "cell_type": "markdown",
      "metadata": {
        "id": "H_eFzej8d5HE"
      },
      "source": [
        "##GOOGLE TRANSLATE API\n",
        "> (GOOGLE-TRANS PACKAGE)\n",
        "\n"
      ]
    },
    {
      "cell_type": "code",
      "execution_count": null,
      "metadata": {
        "colab": {
          "base_uri": "https://localhost:8080/"
        },
        "id": "ijKjrO3naBwr",
        "outputId": "43bb69c6-3296-4678-e781-cf40a893f650"
      },
      "outputs": [
        {
          "output_type": "stream",
          "name": "stdout",
          "text": [
            "Collecting streamlit\n",
            "  Downloading streamlit-1.33.0-py2.py3-none-any.whl (8.1 MB)\n",
            "\u001b[2K     \u001b[90m━━━━━━━━━━━━━━━━━━━━━━━━━━━━━━━━━━━━━━━━\u001b[0m \u001b[32m8.1/8.1 MB\u001b[0m \u001b[31m5.1 MB/s\u001b[0m eta \u001b[36m0:00:00\u001b[0m\n",
            "\u001b[?25hCollecting googletrans==4.0.0-rc1\n",
            "  Downloading googletrans-4.0.0rc1.tar.gz (20 kB)\n",
            "  Preparing metadata (setup.py) ... \u001b[?25l\u001b[?25hdone\n",
            "Collecting httpx==0.13.3 (from googletrans==4.0.0-rc1)\n",
            "  Downloading httpx-0.13.3-py3-none-any.whl (55 kB)\n",
            "\u001b[2K     \u001b[90m━━━━━━━━━━━━━━━━━━━━━━━━━━━━━━━━━━━━━━━━\u001b[0m \u001b[32m55.1/55.1 kB\u001b[0m \u001b[31m3.4 MB/s\u001b[0m eta \u001b[36m0:00:00\u001b[0m\n",
            "\u001b[?25hRequirement already satisfied: certifi in /usr/local/lib/python3.10/dist-packages (from httpx==0.13.3->googletrans==4.0.0-rc1) (2024.2.2)\n",
            "Collecting hstspreload (from httpx==0.13.3->googletrans==4.0.0-rc1)\n",
            "  Downloading hstspreload-2024.4.1-py3-none-any.whl (1.1 MB)\n",
            "\u001b[2K     \u001b[90m━━━━━━━━━━━━━━━━━━━━━━━━━━━━━━━━━━━━━━━━\u001b[0m \u001b[32m1.1/1.1 MB\u001b[0m \u001b[31m5.6 MB/s\u001b[0m eta \u001b[36m0:00:00\u001b[0m\n",
            "\u001b[?25hRequirement already satisfied: sniffio in /usr/local/lib/python3.10/dist-packages (from httpx==0.13.3->googletrans==4.0.0-rc1) (1.3.1)\n",
            "Collecting chardet==3.* (from httpx==0.13.3->googletrans==4.0.0-rc1)\n",
            "  Downloading chardet-3.0.4-py2.py3-none-any.whl (133 kB)\n",
            "\u001b[2K     \u001b[90m━━━━━━━━━━━━━━━━━━━━━━━━━━━━━━━━━━━━━━━━\u001b[0m \u001b[32m133.4/133.4 kB\u001b[0m \u001b[31m5.2 MB/s\u001b[0m eta \u001b[36m0:00:00\u001b[0m\n",
            "\u001b[?25hCollecting idna==2.* (from httpx==0.13.3->googletrans==4.0.0-rc1)\n",
            "  Downloading idna-2.10-py2.py3-none-any.whl (58 kB)\n",
            "\u001b[2K     \u001b[90m━━━━━━━━━━━━━━━━━━━━━━━━━━━━━━━━━━━━━━━━\u001b[0m \u001b[32m58.8/58.8 kB\u001b[0m \u001b[31m6.3 MB/s\u001b[0m eta \u001b[36m0:00:00\u001b[0m\n",
            "\u001b[?25hCollecting rfc3986<2,>=1.3 (from httpx==0.13.3->googletrans==4.0.0-rc1)\n",
            "  Downloading rfc3986-1.5.0-py2.py3-none-any.whl (31 kB)\n",
            "Collecting httpcore==0.9.* (from httpx==0.13.3->googletrans==4.0.0-rc1)\n",
            "  Downloading httpcore-0.9.1-py3-none-any.whl (42 kB)\n",
            "\u001b[2K     \u001b[90m━━━━━━━━━━━━━━━━━━━━━━━━━━━━━━━━━━━━━━━━\u001b[0m \u001b[32m42.6/42.6 kB\u001b[0m \u001b[31m3.3 MB/s\u001b[0m eta \u001b[36m0:00:00\u001b[0m\n",
            "\u001b[?25hCollecting h11<0.10,>=0.8 (from httpcore==0.9.*->httpx==0.13.3->googletrans==4.0.0-rc1)\n",
            "  Downloading h11-0.9.0-py2.py3-none-any.whl (53 kB)\n",
            "\u001b[2K     \u001b[90m━━━━━━━━━━━━━━━━━━━━━━━━━━━━━━━━━━━━━━━━\u001b[0m \u001b[32m53.6/53.6 kB\u001b[0m \u001b[31m4.6 MB/s\u001b[0m eta \u001b[36m0:00:00\u001b[0m\n",
            "\u001b[?25hCollecting h2==3.* (from httpcore==0.9.*->httpx==0.13.3->googletrans==4.0.0-rc1)\n",
            "  Downloading h2-3.2.0-py2.py3-none-any.whl (65 kB)\n",
            "\u001b[2K     \u001b[90m━━━━━━━━━━━━━━━━━━━━━━━━━━━━━━━━━━━━━━━━\u001b[0m \u001b[32m65.0/65.0 kB\u001b[0m \u001b[31m3.9 MB/s\u001b[0m eta \u001b[36m0:00:00\u001b[0m\n",
            "\u001b[?25hCollecting hyperframe<6,>=5.2.0 (from h2==3.*->httpcore==0.9.*->httpx==0.13.3->googletrans==4.0.0-rc1)\n",
            "  Downloading hyperframe-5.2.0-py2.py3-none-any.whl (12 kB)\n",
            "Collecting hpack<4,>=3.0 (from h2==3.*->httpcore==0.9.*->httpx==0.13.3->googletrans==4.0.0-rc1)\n",
            "  Downloading hpack-3.0.0-py2.py3-none-any.whl (38 kB)\n",
            "Requirement already satisfied: altair<6,>=4.0 in /usr/local/lib/python3.10/dist-packages (from streamlit) (4.2.2)\n",
            "Requirement already satisfied: blinker<2,>=1.0.0 in /usr/lib/python3/dist-packages (from streamlit) (1.4)\n",
            "Requirement already satisfied: cachetools<6,>=4.0 in /usr/local/lib/python3.10/dist-packages (from streamlit) (5.3.3)\n",
            "Requirement already satisfied: click<9,>=7.0 in /usr/local/lib/python3.10/dist-packages (from streamlit) (8.1.7)\n",
            "Requirement already satisfied: numpy<2,>=1.19.3 in /usr/local/lib/python3.10/dist-packages (from streamlit) (1.25.2)\n",
            "Requirement already satisfied: packaging<25,>=16.8 in /usr/local/lib/python3.10/dist-packages (from streamlit) (24.0)\n",
            "Requirement already satisfied: pandas<3,>=1.3.0 in /usr/local/lib/python3.10/dist-packages (from streamlit) (2.0.3)\n",
            "Requirement already satisfied: pillow<11,>=7.1.0 in /usr/local/lib/python3.10/dist-packages (from streamlit) (9.4.0)\n",
            "Requirement already satisfied: protobuf<5,>=3.20 in /usr/local/lib/python3.10/dist-packages (from streamlit) (3.20.3)\n",
            "Requirement already satisfied: pyarrow>=7.0 in /usr/local/lib/python3.10/dist-packages (from streamlit) (14.0.2)\n",
            "Requirement already satisfied: requests<3,>=2.27 in /usr/local/lib/python3.10/dist-packages (from streamlit) (2.31.0)\n",
            "Requirement already satisfied: rich<14,>=10.14.0 in /usr/local/lib/python3.10/dist-packages (from streamlit) (13.7.1)\n",
            "Requirement already satisfied: tenacity<9,>=8.1.0 in /usr/local/lib/python3.10/dist-packages (from streamlit) (8.2.3)\n",
            "Requirement already satisfied: toml<2,>=0.10.1 in /usr/local/lib/python3.10/dist-packages (from streamlit) (0.10.2)\n",
            "Requirement already satisfied: typing-extensions<5,>=4.3.0 in /usr/local/lib/python3.10/dist-packages (from streamlit) (4.11.0)\n",
            "Collecting gitpython!=3.1.19,<4,>=3.0.7 (from streamlit)\n",
            "  Downloading GitPython-3.1.43-py3-none-any.whl (207 kB)\n",
            "\u001b[2K     \u001b[90m━━━━━━━━━━━━━━━━━━━━━━━━━━━━━━━━━━━━━━━━\u001b[0m \u001b[32m207.3/207.3 kB\u001b[0m \u001b[31m7.8 MB/s\u001b[0m eta \u001b[36m0:00:00\u001b[0m\n",
            "\u001b[?25hCollecting pydeck<1,>=0.8.0b4 (from streamlit)\n",
            "  Downloading pydeck-0.8.1b0-py2.py3-none-any.whl (4.8 MB)\n",
            "\u001b[2K     \u001b[90m━━━━━━━━━━━━━━━━━━━━━━━━━━━━━━━━━━━━━━━━\u001b[0m \u001b[32m4.8/4.8 MB\u001b[0m \u001b[31m5.7 MB/s\u001b[0m eta \u001b[36m0:00:00\u001b[0m\n",
            "\u001b[?25hRequirement already satisfied: tornado<7,>=6.0.3 in /usr/local/lib/python3.10/dist-packages (from streamlit) (6.3.3)\n",
            "Collecting watchdog>=2.1.5 (from streamlit)\n",
            "  Downloading watchdog-4.0.0-py3-none-manylinux2014_x86_64.whl (82 kB)\n",
            "\u001b[2K     \u001b[90m━━━━━━━━━━━━━━━━━━━━━━━━━━━━━━━━━━━━━━━━\u001b[0m \u001b[32m83.0/83.0 kB\u001b[0m \u001b[31m3.6 MB/s\u001b[0m eta \u001b[36m0:00:00\u001b[0m\n",
            "\u001b[?25hRequirement already satisfied: entrypoints in /usr/local/lib/python3.10/dist-packages (from altair<6,>=4.0->streamlit) (0.4)\n",
            "Requirement already satisfied: jinja2 in /usr/local/lib/python3.10/dist-packages (from altair<6,>=4.0->streamlit) (3.1.3)\n",
            "Requirement already satisfied: jsonschema>=3.0 in /usr/local/lib/python3.10/dist-packages (from altair<6,>=4.0->streamlit) (4.19.2)\n",
            "Requirement already satisfied: toolz in /usr/local/lib/python3.10/dist-packages (from altair<6,>=4.0->streamlit) (0.12.1)\n",
            "Collecting gitdb<5,>=4.0.1 (from gitpython!=3.1.19,<4,>=3.0.7->streamlit)\n",
            "  Downloading gitdb-4.0.11-py3-none-any.whl (62 kB)\n",
            "\u001b[2K     \u001b[90m━━━━━━━━━━━━━━━━━━━━━━━━━━━━━━━━━━━━━━━━\u001b[0m \u001b[32m62.7/62.7 kB\u001b[0m \u001b[31m4.2 MB/s\u001b[0m eta \u001b[36m0:00:00\u001b[0m\n",
            "\u001b[?25hRequirement already satisfied: python-dateutil>=2.8.2 in /usr/local/lib/python3.10/dist-packages (from pandas<3,>=1.3.0->streamlit) (2.8.2)\n",
            "Requirement already satisfied: pytz>=2020.1 in /usr/local/lib/python3.10/dist-packages (from pandas<3,>=1.3.0->streamlit) (2023.4)\n",
            "Requirement already satisfied: tzdata>=2022.1 in /usr/local/lib/python3.10/dist-packages (from pandas<3,>=1.3.0->streamlit) (2024.1)\n",
            "Requirement already satisfied: charset-normalizer<4,>=2 in /usr/local/lib/python3.10/dist-packages (from requests<3,>=2.27->streamlit) (3.3.2)\n",
            "Requirement already satisfied: urllib3<3,>=1.21.1 in /usr/local/lib/python3.10/dist-packages (from requests<3,>=2.27->streamlit) (2.0.7)\n",
            "Requirement already satisfied: markdown-it-py>=2.2.0 in /usr/local/lib/python3.10/dist-packages (from rich<14,>=10.14.0->streamlit) (3.0.0)\n",
            "Requirement already satisfied: pygments<3.0.0,>=2.13.0 in /usr/local/lib/python3.10/dist-packages (from rich<14,>=10.14.0->streamlit) (2.16.1)\n",
            "Collecting smmap<6,>=3.0.1 (from gitdb<5,>=4.0.1->gitpython!=3.1.19,<4,>=3.0.7->streamlit)\n",
            "  Downloading smmap-5.0.1-py3-none-any.whl (24 kB)\n",
            "Requirement already satisfied: MarkupSafe>=2.0 in /usr/local/lib/python3.10/dist-packages (from jinja2->altair<6,>=4.0->streamlit) (2.1.5)\n",
            "Requirement already satisfied: attrs>=22.2.0 in /usr/local/lib/python3.10/dist-packages (from jsonschema>=3.0->altair<6,>=4.0->streamlit) (23.2.0)\n",
            "Requirement already satisfied: jsonschema-specifications>=2023.03.6 in /usr/local/lib/python3.10/dist-packages (from jsonschema>=3.0->altair<6,>=4.0->streamlit) (2023.12.1)\n",
            "Requirement already satisfied: referencing>=0.28.4 in /usr/local/lib/python3.10/dist-packages (from jsonschema>=3.0->altair<6,>=4.0->streamlit) (0.34.0)\n",
            "Requirement already satisfied: rpds-py>=0.7.1 in /usr/local/lib/python3.10/dist-packages (from jsonschema>=3.0->altair<6,>=4.0->streamlit) (0.18.0)\n",
            "Requirement already satisfied: mdurl~=0.1 in /usr/local/lib/python3.10/dist-packages (from markdown-it-py>=2.2.0->rich<14,>=10.14.0->streamlit) (0.1.2)\n",
            "Requirement already satisfied: six>=1.5 in /usr/local/lib/python3.10/dist-packages (from python-dateutil>=2.8.2->pandas<3,>=1.3.0->streamlit) (1.16.0)\n",
            "Building wheels for collected packages: googletrans\n",
            "  Building wheel for googletrans (setup.py) ... \u001b[?25l\u001b[?25hdone\n",
            "  Created wheel for googletrans: filename=googletrans-4.0.0rc1-py3-none-any.whl size=17395 sha256=a67a49a79b0baa05bfd9c05707f05bd62f56679e85baf732db00ebb39127d199\n",
            "  Stored in directory: /root/.cache/pip/wheels/c0/59/9f/7372f0cf70160fe61b528532e1a7c8498c4becd6bcffb022de\n",
            "Successfully built googletrans\n",
            "Installing collected packages: rfc3986, hyperframe, hpack, h11, chardet, watchdog, smmap, idna, hstspreload, h2, pydeck, httpcore, gitdb, httpx, gitpython, googletrans, streamlit\n",
            "  Attempting uninstall: chardet\n",
            "    Found existing installation: chardet 5.2.0\n",
            "    Uninstalling chardet-5.2.0:\n",
            "      Successfully uninstalled chardet-5.2.0\n",
            "  Attempting uninstall: idna\n",
            "    Found existing installation: idna 3.6\n",
            "    Uninstalling idna-3.6:\n",
            "      Successfully uninstalled idna-3.6\n",
            "Successfully installed chardet-3.0.4 gitdb-4.0.11 gitpython-3.1.43 googletrans-4.0.0rc1 h11-0.9.0 h2-3.2.0 hpack-3.0.0 hstspreload-2024.4.1 httpcore-0.9.1 httpx-0.13.3 hyperframe-5.2.0 idna-2.10 pydeck-0.8.1b0 rfc3986-1.5.0 smmap-5.0.1 streamlit-1.33.0 watchdog-4.0.0\n",
            "Collecting googletrans==3.1.0a0\n",
            "  Downloading googletrans-3.1.0a0.tar.gz (19 kB)\n",
            "  Preparing metadata (setup.py) ... \u001b[?25l\u001b[?25hdone\n",
            "Requirement already satisfied: httpx==0.13.3 in /usr/local/lib/python3.10/dist-packages (from googletrans==3.1.0a0) (0.13.3)\n",
            "Requirement already satisfied: certifi in /usr/local/lib/python3.10/dist-packages (from httpx==0.13.3->googletrans==3.1.0a0) (2024.2.2)\n",
            "Requirement already satisfied: hstspreload in /usr/local/lib/python3.10/dist-packages (from httpx==0.13.3->googletrans==3.1.0a0) (2024.4.1)\n",
            "Requirement already satisfied: sniffio in /usr/local/lib/python3.10/dist-packages (from httpx==0.13.3->googletrans==3.1.0a0) (1.3.1)\n",
            "Requirement already satisfied: chardet==3.* in /usr/local/lib/python3.10/dist-packages (from httpx==0.13.3->googletrans==3.1.0a0) (3.0.4)\n",
            "Requirement already satisfied: idna==2.* in /usr/local/lib/python3.10/dist-packages (from httpx==0.13.3->googletrans==3.1.0a0) (2.10)\n",
            "Requirement already satisfied: rfc3986<2,>=1.3 in /usr/local/lib/python3.10/dist-packages (from httpx==0.13.3->googletrans==3.1.0a0) (1.5.0)\n",
            "Requirement already satisfied: httpcore==0.9.* in /usr/local/lib/python3.10/dist-packages (from httpx==0.13.3->googletrans==3.1.0a0) (0.9.1)\n",
            "Requirement already satisfied: h11<0.10,>=0.8 in /usr/local/lib/python3.10/dist-packages (from httpcore==0.9.*->httpx==0.13.3->googletrans==3.1.0a0) (0.9.0)\n",
            "Requirement already satisfied: h2==3.* in /usr/local/lib/python3.10/dist-packages (from httpcore==0.9.*->httpx==0.13.3->googletrans==3.1.0a0) (3.2.0)\n",
            "Requirement already satisfied: hyperframe<6,>=5.2.0 in /usr/local/lib/python3.10/dist-packages (from h2==3.*->httpcore==0.9.*->httpx==0.13.3->googletrans==3.1.0a0) (5.2.0)\n",
            "Requirement already satisfied: hpack<4,>=3.0 in /usr/local/lib/python3.10/dist-packages (from h2==3.*->httpcore==0.9.*->httpx==0.13.3->googletrans==3.1.0a0) (3.0.0)\n",
            "Building wheels for collected packages: googletrans\n",
            "  Building wheel for googletrans (setup.py) ... \u001b[?25l\u001b[?25hdone\n",
            "  Created wheel for googletrans: filename=googletrans-3.1.0a0-py3-none-any.whl size=16353 sha256=14c31aa8b01e0f88af8d6b40ea483da202a22ce9a908f6b2babd742351a2e377\n",
            "  Stored in directory: /root/.cache/pip/wheels/50/5d/3c/8477d0af4ca2b8b1308812c09f1930863caeebc762fe265a95\n",
            "Successfully built googletrans\n",
            "Installing collected packages: googletrans\n",
            "  Attempting uninstall: googletrans\n",
            "    Found existing installation: googletrans 4.0.0rc1\n",
            "    Uninstalling googletrans-4.0.0rc1:\n",
            "      Successfully uninstalled googletrans-4.0.0rc1\n",
            "Successfully installed googletrans-3.1.0a0\n",
            "Requirement already satisfied: nltk in /usr/local/lib/python3.10/dist-packages (3.8.1)\n",
            "Requirement already satisfied: click in /usr/local/lib/python3.10/dist-packages (from nltk) (8.1.7)\n",
            "Requirement already satisfied: joblib in /usr/local/lib/python3.10/dist-packages (from nltk) (1.4.0)\n",
            "Requirement already satisfied: regex>=2021.8.3 in /usr/local/lib/python3.10/dist-packages (from nltk) (2023.12.25)\n",
            "Requirement already satisfied: tqdm in /usr/local/lib/python3.10/dist-packages (from nltk) (4.66.2)\n"
          ]
        }
      ],
      "source": [
        "!pip install streamlit googletrans==4.0.0-rc1\n",
        "!pip install googletrans==3.1.0a0\n",
        "!pip install nltk\n",
        "from timeit import default_timer as timer\n",
        "import streamlit as st\n",
        "import googletrans\n",
        "from googletrans import Translator\n",
        "from google.colab import drive\n",
        "import pandas as pd\n",
        "import numpy as np"
      ]
    },
    {
      "cell_type": "code",
      "execution_count": null,
      "metadata": {
        "colab": {
          "base_uri": "https://localhost:8080/"
        },
        "id": "QktX0mBOc-pm",
        "outputId": "d33f9e78-e52c-4e11-b8f6-e5888838869f"
      },
      "outputs": [
        {
          "output_type": "stream",
          "name": "stdout",
          "text": [
            "Fri Apr 12 15:09:32 2024       \n",
            "+---------------------------------------------------------------------------------------+\n",
            "| NVIDIA-SMI 535.104.05             Driver Version: 535.104.05   CUDA Version: 12.2     |\n",
            "|-----------------------------------------+----------------------+----------------------+\n",
            "| GPU  Name                 Persistence-M | Bus-Id        Disp.A | Volatile Uncorr. ECC |\n",
            "| Fan  Temp   Perf          Pwr:Usage/Cap |         Memory-Usage | GPU-Util  Compute M. |\n",
            "|                                         |                      |               MIG M. |\n",
            "|=========================================+======================+======================|\n",
            "|   0  Tesla T4                       Off | 00000000:00:04.0 Off |                    0 |\n",
            "| N/A   45C    P8              10W /  70W |      0MiB / 15360MiB |      0%      Default |\n",
            "|                                         |                      |                  N/A |\n",
            "+-----------------------------------------+----------------------+----------------------+\n",
            "                                                                                         \n",
            "+---------------------------------------------------------------------------------------+\n",
            "| Processes:                                                                            |\n",
            "|  GPU   GI   CI        PID   Type   Process name                            GPU Memory |\n",
            "|        ID   ID                                                             Usage      |\n",
            "|=======================================================================================|\n",
            "|  No running processes found                                                           |\n",
            "+---------------------------------------------------------------------------------------+\n"
          ]
        }
      ],
      "source": [
        "!nvidia-smi"
      ]
    },
    {
      "cell_type": "code",
      "execution_count": null,
      "metadata": {
        "colab": {
          "base_uri": "https://localhost:8080/"
        },
        "id": "GMlk22xBeyFH",
        "outputId": "ff3e444d-732b-4e09-c07f-cd0abe67d031"
      },
      "outputs": [
        {
          "output_type": "stream",
          "name": "stdout",
          "text": [
            "{'af': 'afrikaans', 'sq': 'albanian', 'am': 'amharic', 'ar': 'arabic', 'hy': 'armenian', 'az': 'azerbaijani', 'eu': 'basque', 'be': 'belarusian', 'bn': 'bengali', 'bs': 'bosnian', 'bg': 'bulgarian', 'ca': 'catalan', 'ceb': 'cebuano', 'ny': 'chichewa', 'zh-cn': 'chinese (simplified)', 'zh-tw': 'chinese (traditional)', 'co': 'corsican', 'hr': 'croatian', 'cs': 'czech', 'da': 'danish', 'nl': 'dutch', 'en': 'english', 'eo': 'esperanto', 'et': 'estonian', 'tl': 'filipino', 'fi': 'finnish', 'fr': 'french', 'fy': 'frisian', 'gl': 'galician', 'ka': 'georgian', 'de': 'german', 'el': 'greek', 'gu': 'gujarati', 'ht': 'haitian creole', 'ha': 'hausa', 'haw': 'hawaiian', 'iw': 'hebrew', 'he': 'hebrew', 'hi': 'hindi', 'hmn': 'hmong', 'hu': 'hungarian', 'is': 'icelandic', 'ig': 'igbo', 'id': 'indonesian', 'ga': 'irish', 'it': 'italian', 'ja': 'japanese', 'jw': 'javanese', 'kn': 'kannada', 'kk': 'kazakh', 'km': 'khmer', 'ko': 'korean', 'ku': 'kurdish (kurmanji)', 'ky': 'kyrgyz', 'lo': 'lao', 'la': 'latin', 'lv': 'latvian', 'lt': 'lithuanian', 'lb': 'luxembourgish', 'mk': 'macedonian', 'mg': 'malagasy', 'ms': 'malay', 'ml': 'malayalam', 'mt': 'maltese', 'mi': 'maori', 'mr': 'marathi', 'mn': 'mongolian', 'my': 'myanmar (burmese)', 'ne': 'nepali', 'no': 'norwegian', 'or': 'odia', 'ps': 'pashto', 'fa': 'persian', 'pl': 'polish', 'pt': 'portuguese', 'pa': 'punjabi', 'ro': 'romanian', 'ru': 'russian', 'sm': 'samoan', 'gd': 'scots gaelic', 'sr': 'serbian', 'st': 'sesotho', 'sn': 'shona', 'sd': 'sindhi', 'si': 'sinhala', 'sk': 'slovak', 'sl': 'slovenian', 'so': 'somali', 'es': 'spanish', 'su': 'sundanese', 'sw': 'swahili', 'sv': 'swedish', 'tg': 'tajik', 'ta': 'tamil', 'te': 'telugu', 'th': 'thai', 'tr': 'turkish', 'uk': 'ukrainian', 'ur': 'urdu', 'ug': 'uyghur', 'uz': 'uzbek', 'vi': 'vietnamese', 'cy': 'welsh', 'xh': 'xhosa', 'yi': 'yiddish', 'yo': 'yoruba', 'zu': 'zulu'}\n"
          ]
        }
      ],
      "source": [
        "print(googletrans.LANGUAGES)"
      ]
    },
    {
      "cell_type": "code",
      "execution_count": null,
      "metadata": {
        "id": "d4MYC6Giey4L"
      },
      "outputs": [],
      "source": [
        "translator = Translator(raise_exception=True)"
      ]
    },
    {
      "cell_type": "code",
      "execution_count": null,
      "metadata": {
        "colab": {
          "base_uri": "https://localhost:8080/"
        },
        "id": "HXJ9PRd4fAFy",
        "outputId": "359014d4-df1c-44e0-b231-e1918a13ebd7"
      },
      "outputs": [
        {
          "name": "stdout",
          "output_type": "stream",
          "text": [
            "Drive already mounted at /content/drive; to attempt to forcibly remount, call drive.mount(\"/content/drive\", force_remount=True).\n"
          ]
        }
      ],
      "source": [
        "drive.mount('/content/drive')\n",
        "df = pd.read_csv('/content/Bhagwad_Gita.csv')"
      ]
    },
    {
      "cell_type": "code",
      "execution_count": null,
      "metadata": {
        "colab": {
          "base_uri": "https://localhost:8080/",
          "height": 293
        },
        "id": "r9V92mcUUGp2",
        "outputId": "8c54722b-aeaa-4970-fef8-0f1c9733a264"
      },
      "outputs": [
        {
          "data": {
            "application/vnd.google.colaboratory.intrinsic+json": {
              "summary": "{\n  \"name\": \"df\",\n  \"rows\": 701,\n  \"fields\": [\n    {\n      \"column\": \"ID\",\n      \"properties\": {\n        \"dtype\": \"string\",\n        \"num_unique_values\": 701,\n        \"samples\": [\n          \"BG18.58\",\n          \"BG4.3\",\n          \"BG2.8\"\n        ],\n        \"semantic_type\": \"\",\n        \"description\": \"\"\n      }\n    },\n    {\n      \"column\": \"Chapter\",\n      \"properties\": {\n        \"dtype\": \"number\",\n        \"std\": 5,\n        \"min\": 1,\n        \"max\": 18,\n        \"num_unique_values\": 18,\n        \"samples\": [\n          1,\n          2,\n          9\n        ],\n        \"semantic_type\": \"\",\n        \"description\": \"\"\n      }\n    },\n    {\n      \"column\": \"Verse\",\n      \"properties\": {\n        \"dtype\": \"number\",\n        \"std\": 16,\n        \"min\": 1,\n        \"max\": 78,\n        \"num_unique_values\": 78,\n        \"samples\": [\n          34,\n          1,\n          35\n        ],\n        \"semantic_type\": \"\",\n        \"description\": \"\"\n      }\n    },\n    {\n      \"column\": \"Shloka\",\n      \"properties\": {\n        \"dtype\": \"string\",\n        \"num_unique_values\": 701,\n        \"samples\": [\n          \"\\u092e\\u091a\\u094d\\u091a\\u093f\\u0924\\u094d\\u0924\\u0903 \\u0938\\u0930\\u094d\\u0935\\u0926\\u0941\\u0930\\u094d\\u0917\\u093e\\u0923\\u093f \\u092e\\u0924\\u094d\\u092a\\u094d\\u0930\\u0938\\u093e\\u0926\\u093e\\u0924\\u094d\\u0924\\u0930\\u093f\\u0937\\u094d\\u092f\\u0938\\u093f |\\n\\u0905\\u0925 \\u091a\\u0947\\u0924\\u094d\\u0924\\u094d\\u0935\\u092e\\u0939\\u0902\\u0915\\u093e\\u0930\\u093e\\u0928\\u094d\\u0928 \\u0936\\u094d\\u0930\\u094b\\u0937\\u094d\\u092f\\u0938\\u093f \\u0935\\u093f\\u0928\\u0919\\u094d\\u0915\\u094d\\u0937\\u094d\\u092f\\u0938\\u093f ||\\u0967\\u096e-\\u096b\\u096e||\",\n          \"\\u0938 \\u090f\\u0935\\u093e\\u092f\\u0902 \\u092e\\u092f\\u093e \\u0924\\u0947\\u093d\\u0926\\u094d\\u092f \\u092f\\u094b\\u0917\\u0903 \\u092a\\u094d\\u0930\\u094b\\u0915\\u094d\\u0924\\u0903 \\u092a\\u0941\\u0930\\u093e\\u0924\\u0928\\u0903 |\\n\\u092d\\u0915\\u094d\\u0924\\u094b\\u093d\\u0938\\u093f \\u092e\\u0947 \\u0938\\u0916\\u093e \\u091a\\u0947\\u0924\\u093f \\u0930\\u0939\\u0938\\u094d\\u092f\\u0902 \\u0939\\u094d\\u092f\\u0947\\u0924\\u0926\\u0941\\u0924\\u094d\\u0924\\u092e\\u092e\\u094d ||\\u096a-\\u0969||\",\n          \"\\u0928 \\u0939\\u093f \\u092a\\u094d\\u0930\\u092a\\u0936\\u094d\\u092f\\u093e\\u092e\\u093f \\u092e\\u092e\\u093e\\u092a\\u0928\\u0941\\u0926\\u094d\\u092f\\u093e\\u0926\\u094d\\n\\u092f\\u091a\\u094d\\u091b\\u094b\\u0915\\u092e\\u0941\\u091a\\u094d\\u091b\\u094b\\u0937\\u0923\\u092e\\u093f\\u0928\\u094d\\u0926\\u094d\\u0930\\u093f\\u092f\\u093e\\u0923\\u093e\\u092e\\u094d |\\n\\u0905\\u0935\\u093e\\u092a\\u094d\\u092f \\u092d\\u0942\\u092e\\u093e\\u0935\\u0938\\u092a\\u0924\\u094d\\u0928\\u092e\\u0943\\u0926\\u094d\\u0927\\u0902\\n\\u0930\\u093e\\u091c\\u094d\\u092f\\u0902 \\u0938\\u0941\\u0930\\u093e\\u0923\\u093e\\u092e\\u092a\\u093f \\u091a\\u093e\\u0927\\u093f\\u092a\\u0924\\u094d\\u092f\\u092e\\u094d ||\\u0968-\\u096e||\"\n        ],\n        \"semantic_type\": \"\",\n        \"description\": \"\"\n      }\n    },\n    {\n      \"column\": \"Transliteration\",\n      \"properties\": {\n        \"dtype\": \"string\",\n        \"num_unique_values\": 701,\n        \"samples\": [\n          \"maccitta\\u1e25 sarvadurg\\u0101\\u1e47i matpras\\u0101d\\u0101ttari\\u1e63yasi .\\natha cettvamaha\\u1e43k\\u0101r\\u0101nna \\u015bro\\u1e63yasi vina\\u1e45k\\u1e63yasi ||18-58||\",\n          \"sa ev\\u0101ya\\u1e43 may\\u0101 te.adya yoga\\u1e25 prokta\\u1e25 pur\\u0101tana\\u1e25 .\\nbhakto.asi me sakh\\u0101 ceti rahasya\\u1e43 hyetaduttamam ||4-3||\",\n          \"na hi prapa\\u015by\\u0101mi mam\\u0101panudy\\u0101d yacchokamuccho\\u1e63a\\u1e47amindriy\\u0101\\u1e47\\u0101m .\\nav\\u0101pya bh\\u016bm\\u0101vasapatnam\\u1e5bddha\\u1e43 r\\u0101jya\\u1e43 sur\\u0101\\u1e47\\u0101mapi c\\u0101dhipatyam ||2-8||\"\n        ],\n        \"semantic_type\": \"\",\n        \"description\": \"\"\n      }\n    },\n    {\n      \"column\": \"HinMeaning\",\n      \"properties\": {\n        \"dtype\": \"string\",\n        \"num_unique_values\": 699,\n        \"samples\": [\n          \"\\u0964\\u09643.40\\u0964\\u0964 \\u0907\\u0928\\u094d\\u0926\\u094d\\u0930\\u093f\\u092f\\u093e\\u0901,\\u00a0 \\u092e\\u0928 \\u0914\\u0930 \\u092c\\u0941\\u0926\\u094d\\u0927\\u093f \\u0907\\u0938\\u0915\\u0947 \\u0928\\u093f\\u0935\\u093e\\u0938 \\u0938\\u094d\\u0925\\u093e\\u0928 \\u0915\\u0939\\u0947 \\u091c\\u093e\\u0924\\u0947 \\u0939\\u0948\\u0902;\\u00a0 \\u092f\\u0939 \\u0915\\u093e\\u092e \\u0907\\u0928\\u0915\\u0947 \\u0926\\u094d\\u0935\\u093e\\u0930\\u093e \\u0939\\u0940 \\u091c\\u094d\\u091e\\u093e\\u0928 \\u0915\\u094b \\u0906\\u091a\\u094d\\u091b\\u093e\\u0926\\u093f\\u0924 \\u0915\\u0930\\u0915\\u0947 \\u0926\\u0947\\u0939\\u0940 \\u092a\\u0941\\u0930\\u0941\\u0937 \\u0915\\u094b \\u092e\\u094b\\u0939\\u093f\\u0924 \\u0915\\u0930\\u0924\\u093e \\u0939\\u0948\\u0964\\u0964\",\n          \"\\u0964\\u096413.12\\u0964\\u0964 \\u0905\\u0927\\u094d\\u092f\\u093e\\u0924\\u094d\\u092e\\u091c\\u094d\\u091e\\u093e\\u0928 \\u092e\\u0947\\u0902 \\u0928\\u093f\\u0924\\u094d\\u092f\\u0924\\u094d\\u0935 \\u0905\\u0930\\u094d\\u0925\\u093e\\u0924\\u094d \\u0938\\u094d\\u0925\\u093f\\u0930\\u0924\\u093e \\u0924\\u0925\\u093e \\u0924\\u0924\\u094d\\u0924\\u094d\\u0935\\u091c\\u094d\\u091e\\u093e\\u0928 \\u0915\\u0947 \\u0905\\u0930\\u094d\\u0925 \\u0930\\u0942\\u092a \\u092a\\u0930\\u092e\\u093e\\u0924\\u094d\\u092e\\u093e \\u0915\\u093e \\u0926\\u0930\\u094d\\u0936\\u0928, \\u092f\\u0939 \\u0938\\u092c \\u0924\\u094b \\u091c\\u094d\\u091e\\u093e\\u0928 \\u0915\\u0939\\u093e \\u0917\\u092f\\u093e \\u0939\\u0948, \\u0914\\u0930 \\u091c\\u094b \\u0907\\u0938\\u0938\\u0947 \\u0935\\u093f\\u092a\\u0930\\u0940\\u0924 \\u0939\\u0948, \\u0935\\u0939 \\u0905\\u091c\\u094d\\u091e\\u093e\\u0928 \\u0939\\u0948\\u0964\\u0964\",\n          \"\\u0964\\u096410.25\\u0964\\u0964 \\u092e\\u0948\\u0902 \\u092e\\u0939\\u0930\\u094d\\u0937\\u093f\\u092f\\u094b\\u0902 \\u092e\\u0947\\u0902 \\u092d\\u0943\\u0917\\u0941 \\u0914\\u0930 \\u0935\\u093e\\u0923\\u0940 (\\u0936\\u092c\\u094d\\u0926\\u094b\\u0902) \\u092e\\u0947\\u0902 \\u090f\\u0915\\u093e\\u0915\\u094d\\u0937\\u0930 \\u0913\\u0902\\u0915\\u093e\\u0930 \\u0939\\u0942\\u0901\\u0964 \\u092e\\u0948\\u0902 \\u092f\\u091c\\u094d\\u091e\\u094b\\u0902 \\u092e\\u0947\\u0902 \\u091c\\u092a\\u092f\\u091c\\u094d\\u091e \\u0914\\u0930 \\u0938\\u094d\\u0925\\u093e\\u0935\\u0930\\u094b\\u0902 (\\u0905\\u091a\\u0932\\u094b\\u0902) \\u092e\\u0947\\u0902 \\u0939\\u093f\\u092e\\u093e\\u0932\\u092f \\u0939\\u0942\\u0901\\u0964\\u0964\"\n        ],\n        \"semantic_type\": \"\",\n        \"description\": \"\"\n      }\n    },\n    {\n      \"column\": \"EngMeaning\",\n      \"properties\": {\n        \"dtype\": \"string\",\n        \"num_unique_values\": 695,\n        \"samples\": [\n          \"10.12 Arjuna said  Thou art the Supreme Brahman, the supreme abode (or the supreme light), the supreme purifier, eternal, divine Person, the primeval God, unborn andn omnipresent.\",\n          \"18.51 Endowed with a pure intellect, controlling the self by firmness, relinishing sound and other objects and abandoning attraction and hatred.\",\n          \"6.25 Little by little let him attain to ietude by the intellect held firmly; having made the mind establish itself in the Self, let him not think of anything.\"\n        ],\n        \"semantic_type\": \"\",\n        \"description\": \"\"\n      }\n    },\n    {\n      \"column\": \"WordMeaning\",\n      \"properties\": {\n        \"dtype\": \"string\",\n        \"num_unique_values\": 696,\n        \"samples\": [\n          \"18.57 \\u091a\\u0947\\u0924\\u0938\\u093e mentally? \\u0938\\u0930\\u094d\\u0935\\u0915\\u0930\\u094d\\u092e\\u093e\\u0923\\u093f all actions? \\u092e\\u092f\\u093f in Me? \\u0938\\u0902\\u0928\\u094d\\u092f\\u0938\\u094d\\u092f resigning? \\u092e\\u0924\\u094d\\u092a\\u0930\\u0903 having Me as the highest goal? \\u092c\\u0941\\u0926\\u094d\\u0927\\u093f\\u092f\\u094b\\u0917\\u092e\\u094d the Yoga of discrimination? \\u0909\\u092a\\u093e\\u0936\\u094d\\u0930\\u093f\\u0924\\u094d\\u092f resorting to? \\u092e\\u091a\\u094d\\u091a\\u093f\\u0924\\u094d\\u0924\\u0903 with the mind fixed on Me? \\u0938\\u0924\\u0924\\u092e\\u094d always? \\u092d\\u0935 be.Commentary Do thou? O Arjuna? surrender all thy actions to Me whilst at the same time fixing thy mind on discrimination. Then through that discrimination thou wilt see thy Self as separate from the body and activity and existing in My pure Being.    Chetasa Mentally with the discriminative faith that knowledge finally leads to liberation when the heart is purified through selfless works done with the spirit of offering to God.Sarvakarmani All actions producing visible and invisible results.Me The Lord As taught in verse 27 of chapter IX Whatever thou doest? whatever thou eatest? etc.? do thou dedicate all thy actions to Me.Matparah Taking Me? Vaasudeva? as the supreme goal? and his whole self centred in Me.Resorting to Buddhi Yoga As thy sole refuge steadymindedness.\",\n          \"8.7 \\u0924\\u0938\\u094d\\u092e\\u093e\\u0924\\u094d therefore? \\u0938\\u0930\\u094d\\u0935\\u0947\\u0937\\u0941 in all? \\u0915\\u093e\\u0932\\u0947\\u0937\\u0941 (in) times? \\u092e\\u093e\\u092e\\u094d Me? \\u0905\\u0928\\u0941\\u0938\\u094d\\u092e\\u0930 remember? \\u092f\\u0941\\u0927\\u094d\\u092f fight? \\u091a and? \\u092e\\u092f\\u094d\\u092f\\u0930\\u094d\\u092a\\u093f\\u0924\\u092e\\u0928\\u094b\\u092c\\u0941\\u0926\\u094d\\u0927\\u093f\\u0903 with mind and intellect fixed (or absorbed) in Me? \\u092e\\u093e\\u092e\\u094d to Me? \\u090f\\u0935 alone? \\u090f\\u0937\\u094d\\u092f\\u0938\\u093f (thou) shalt come to? \\u0905\\u0938\\u0902\\u0936\\u092f\\u092e\\u094d doubtless.Commentary The whole mental machinery should be dedicated to the Lord. You must work with the mind and intellect devoted to Him.Fight Perform your own Dharma? the duty of a Kshatriya. It will purify your heart and you will attain to knowledge and come to Me. The term fight is Upalakshana (suggestive). It means Do your duties according to your caste and order of life. VarnashramaDharmas (the duties pertaining to the various castes and orders of life) and NityaNaimittika Karmas are the Upalakshanas (factors suggested or alluded to).The ChittaVritti which is of the form of the object meditated upon is the Bhavana. (ChittaVrittis is mental modification). The Bhavana is for those who practise Saguna Upasana. Bhavana at the time of separtion of the body is not necessary for a sage or a Jnani who has attained to the knowledge of the Self or Selfrealisation. (Cf.IX.34XII.8?11)\",\n          \"17.21 \\u092f\\u0924\\u094d which? \\u0924\\u0941 indeed? \\u092a\\u094d\\u0930\\u0924\\u094d\\u092f\\u0941\\u092a\\u0915\\u093e\\u0930\\u093e\\u0930\\u094d\\u0925\\u092e\\u094d with a view to receive in return? \\u092b\\u0932\\u092e\\u094d fruit? \\u0909\\u0926\\u094d\\u0926\\u093f\\u0936\\u094d\\u092f looking for? \\u0935\\u093e or? \\u092a\\u0941\\u0928\\u0903 again? \\u0926\\u0940\\u092f\\u0924\\u0947 is given? \\u091a and? \\u092a\\u0930\\u093f\\u0915\\u094d\\u0932\\u093f\\u0937\\u094d\\u091f\\u092e\\u094d reluctantly? \\u0924\\u0924\\u094d that? \\u0926\\u093e\\u0928\\u092e\\u094d gift? \\u0930\\u093e\\u091c\\u0938\\u092e\\u094d Rajasic? \\u0938\\u094d\\u092e\\u0943\\u0924\\u092e\\u094d is held to be.Commentary Charity or gift that is given in the hope that it will be returned in the future and praised in public or that the gift will bring some unseen reward or heavenly pleasure is passionate. If a man makes a gift to a Brahmana or a Sannyasin with the hope that all his sins will be washed away? this is also a Rajasic gift. If a man is grieved at heart after making the gift this is also a gift of passionate nature.\"\n        ],\n        \"semantic_type\": \"\",\n        \"description\": \"\"\n      }\n    }\n  ]\n}",
              "type": "dataframe",
              "variable_name": "df"
            },
            "text/html": [
              "\n",
              "  <div id=\"df-a8a18720-82bf-40f6-8646-61fa49c9bbca\" class=\"colab-df-container\">\n",
              "    <div>\n",
              "<style scoped>\n",
              "    .dataframe tbody tr th:only-of-type {\n",
              "        vertical-align: middle;\n",
              "    }\n",
              "\n",
              "    .dataframe tbody tr th {\n",
              "        vertical-align: top;\n",
              "    }\n",
              "\n",
              "    .dataframe thead th {\n",
              "        text-align: right;\n",
              "    }\n",
              "</style>\n",
              "<table border=\"1\" class=\"dataframe\">\n",
              "  <thead>\n",
              "    <tr style=\"text-align: right;\">\n",
              "      <th></th>\n",
              "      <th>ID</th>\n",
              "      <th>Chapter</th>\n",
              "      <th>Verse</th>\n",
              "      <th>Shloka</th>\n",
              "      <th>Transliteration</th>\n",
              "      <th>HinMeaning</th>\n",
              "      <th>EngMeaning</th>\n",
              "      <th>WordMeaning</th>\n",
              "    </tr>\n",
              "  </thead>\n",
              "  <tbody>\n",
              "    <tr>\n",
              "      <th>0</th>\n",
              "      <td>BG1.1</td>\n",
              "      <td>1</td>\n",
              "      <td>1</td>\n",
              "      <td>धृतराष्ट्र उवाच |\\nधर्मक्षेत्रे कुरुक्षेत्रे स...</td>\n",
              "      <td>dhṛtarāṣṭra uvāca .\\ndharmakṣetre kurukṣetre s...</td>\n",
              "      <td>।।1.1।।धृतराष्ट्र ने कहा -- हे संजय ! धर्मभूमि...</td>\n",
              "      <td>1.1 Dhritarashtra said  What did my people and...</td>\n",
              "      <td>1.1 धर्मक्षेत्रे on the holy plain? कुरुक्षेत्...</td>\n",
              "    </tr>\n",
              "    <tr>\n",
              "      <th>1</th>\n",
              "      <td>BG1.2</td>\n",
              "      <td>1</td>\n",
              "      <td>2</td>\n",
              "      <td>सञ्जय उवाच |\\nदृष्ट्वा तु पाण्डवानीकं व्यूढं द...</td>\n",
              "      <td>sañjaya uvāca .\\ndṛṣṭvā tu pāṇḍavānīkaṃ vyūḍha...</td>\n",
              "      <td>।।1.2।।संजय ने कहा -- पाण्डव-सैन्य की व्यूह रच...</td>\n",
              "      <td>1.2. Sanjaya said  Having seen the army of the...</td>\n",
              "      <td>1.2 दृष्ट्वा having seen? तु indeed? पाण्डवानी...</td>\n",
              "    </tr>\n",
              "    <tr>\n",
              "      <th>2</th>\n",
              "      <td>BG1.3</td>\n",
              "      <td>1</td>\n",
              "      <td>3</td>\n",
              "      <td>पश्यैतां पाण्डुपुत्राणामाचार्य महतीं चमूम् |\\n...</td>\n",
              "      <td>paśyaitāṃ pāṇḍuputrāṇāmācārya mahatīṃ camūm .\\...</td>\n",
              "      <td>।।1.3।।हे आचार्य ! आपके बुद्धिमान शिष्य द्रुपद...</td>\n",
              "      <td>1.3. \"Behold, O Teacher! this mighty army of t...</td>\n",
              "      <td>1.3 पश्य behold? एताम् this? पाण्डुपुत्राणाम् ...</td>\n",
              "    </tr>\n",
              "    <tr>\n",
              "      <th>3</th>\n",
              "      <td>BG1.4</td>\n",
              "      <td>1</td>\n",
              "      <td>4</td>\n",
              "      <td>अत्र शूरा महेष्वासा भीमार्जुनसमा युधि |\\nयुयुध...</td>\n",
              "      <td>atra śūrā maheṣvāsā bhīmārjunasamā yudhi .\\nyu...</td>\n",
              "      <td>।।1.4।।इस सेना में महान् धनुर्धारी शूर योद्धा ...</td>\n",
              "      <td>1.4. Here are heroes, mighty archers, eal in b...</td>\n",
              "      <td>1.4 अत्र here? शूराः heroes? महेष्वासाः mighty...</td>\n",
              "    </tr>\n",
              "    <tr>\n",
              "      <th>4</th>\n",
              "      <td>BG1.5</td>\n",
              "      <td>1</td>\n",
              "      <td>5</td>\n",
              "      <td>धृष्टकेतुश्चेकितानः काशिराजश्च वीर्यवान् |\\nपु...</td>\n",
              "      <td>dhṛṣṭaketuścekitānaḥ kāśirājaśca vīryavān .\\np...</td>\n",
              "      <td>।।1.5।।धृष्टकेतु, चेकितान, बलवान काशिराज,  पुर...</td>\n",
              "      <td>1.5. \"Dhrishtaketu, chekitana and the valiant ...</td>\n",
              "      <td>1.5 धृष्टकेतुः Dhrishtaketu? चेकितानः Chekitan...</td>\n",
              "    </tr>\n",
              "  </tbody>\n",
              "</table>\n",
              "</div>\n",
              "    <div class=\"colab-df-buttons\">\n",
              "\n",
              "  <div class=\"colab-df-container\">\n",
              "    <button class=\"colab-df-convert\" onclick=\"convertToInteractive('df-a8a18720-82bf-40f6-8646-61fa49c9bbca')\"\n",
              "            title=\"Convert this dataframe to an interactive table.\"\n",
              "            style=\"display:none;\">\n",
              "\n",
              "  <svg xmlns=\"http://www.w3.org/2000/svg\" height=\"24px\" viewBox=\"0 -960 960 960\">\n",
              "    <path d=\"M120-120v-720h720v720H120Zm60-500h600v-160H180v160Zm220 220h160v-160H400v160Zm0 220h160v-160H400v160ZM180-400h160v-160H180v160Zm440 0h160v-160H620v160ZM180-180h160v-160H180v160Zm440 0h160v-160H620v160Z\"/>\n",
              "  </svg>\n",
              "    </button>\n",
              "\n",
              "  <style>\n",
              "    .colab-df-container {\n",
              "      display:flex;\n",
              "      gap: 12px;\n",
              "    }\n",
              "\n",
              "    .colab-df-convert {\n",
              "      background-color: #E8F0FE;\n",
              "      border: none;\n",
              "      border-radius: 50%;\n",
              "      cursor: pointer;\n",
              "      display: none;\n",
              "      fill: #1967D2;\n",
              "      height: 32px;\n",
              "      padding: 0 0 0 0;\n",
              "      width: 32px;\n",
              "    }\n",
              "\n",
              "    .colab-df-convert:hover {\n",
              "      background-color: #E2EBFA;\n",
              "      box-shadow: 0px 1px 2px rgba(60, 64, 67, 0.3), 0px 1px 3px 1px rgba(60, 64, 67, 0.15);\n",
              "      fill: #174EA6;\n",
              "    }\n",
              "\n",
              "    .colab-df-buttons div {\n",
              "      margin-bottom: 4px;\n",
              "    }\n",
              "\n",
              "    [theme=dark] .colab-df-convert {\n",
              "      background-color: #3B4455;\n",
              "      fill: #D2E3FC;\n",
              "    }\n",
              "\n",
              "    [theme=dark] .colab-df-convert:hover {\n",
              "      background-color: #434B5C;\n",
              "      box-shadow: 0px 1px 3px 1px rgba(0, 0, 0, 0.15);\n",
              "      filter: drop-shadow(0px 1px 2px rgba(0, 0, 0, 0.3));\n",
              "      fill: #FFFFFF;\n",
              "    }\n",
              "  </style>\n",
              "\n",
              "    <script>\n",
              "      const buttonEl =\n",
              "        document.querySelector('#df-a8a18720-82bf-40f6-8646-61fa49c9bbca button.colab-df-convert');\n",
              "      buttonEl.style.display =\n",
              "        google.colab.kernel.accessAllowed ? 'block' : 'none';\n",
              "\n",
              "      async function convertToInteractive(key) {\n",
              "        const element = document.querySelector('#df-a8a18720-82bf-40f6-8646-61fa49c9bbca');\n",
              "        const dataTable =\n",
              "          await google.colab.kernel.invokeFunction('convertToInteractive',\n",
              "                                                    [key], {});\n",
              "        if (!dataTable) return;\n",
              "\n",
              "        const docLinkHtml = 'Like what you see? Visit the ' +\n",
              "          '<a target=\"_blank\" href=https://colab.research.google.com/notebooks/data_table.ipynb>data table notebook</a>'\n",
              "          + ' to learn more about interactive tables.';\n",
              "        element.innerHTML = '';\n",
              "        dataTable['output_type'] = 'display_data';\n",
              "        await google.colab.output.renderOutput(dataTable, element);\n",
              "        const docLink = document.createElement('div');\n",
              "        docLink.innerHTML = docLinkHtml;\n",
              "        element.appendChild(docLink);\n",
              "      }\n",
              "    </script>\n",
              "  </div>\n",
              "\n",
              "\n",
              "<div id=\"df-fd614eb1-6472-4f5c-b772-ae49bed885ab\">\n",
              "  <button class=\"colab-df-quickchart\" onclick=\"quickchart('df-fd614eb1-6472-4f5c-b772-ae49bed885ab')\"\n",
              "            title=\"Suggest charts\"\n",
              "            style=\"display:none;\">\n",
              "\n",
              "<svg xmlns=\"http://www.w3.org/2000/svg\" height=\"24px\"viewBox=\"0 0 24 24\"\n",
              "     width=\"24px\">\n",
              "    <g>\n",
              "        <path d=\"M19 3H5c-1.1 0-2 .9-2 2v14c0 1.1.9 2 2 2h14c1.1 0 2-.9 2-2V5c0-1.1-.9-2-2-2zM9 17H7v-7h2v7zm4 0h-2V7h2v10zm4 0h-2v-4h2v4z\"/>\n",
              "    </g>\n",
              "</svg>\n",
              "  </button>\n",
              "\n",
              "<style>\n",
              "  .colab-df-quickchart {\n",
              "      --bg-color: #E8F0FE;\n",
              "      --fill-color: #1967D2;\n",
              "      --hover-bg-color: #E2EBFA;\n",
              "      --hover-fill-color: #174EA6;\n",
              "      --disabled-fill-color: #AAA;\n",
              "      --disabled-bg-color: #DDD;\n",
              "  }\n",
              "\n",
              "  [theme=dark] .colab-df-quickchart {\n",
              "      --bg-color: #3B4455;\n",
              "      --fill-color: #D2E3FC;\n",
              "      --hover-bg-color: #434B5C;\n",
              "      --hover-fill-color: #FFFFFF;\n",
              "      --disabled-bg-color: #3B4455;\n",
              "      --disabled-fill-color: #666;\n",
              "  }\n",
              "\n",
              "  .colab-df-quickchart {\n",
              "    background-color: var(--bg-color);\n",
              "    border: none;\n",
              "    border-radius: 50%;\n",
              "    cursor: pointer;\n",
              "    display: none;\n",
              "    fill: var(--fill-color);\n",
              "    height: 32px;\n",
              "    padding: 0;\n",
              "    width: 32px;\n",
              "  }\n",
              "\n",
              "  .colab-df-quickchart:hover {\n",
              "    background-color: var(--hover-bg-color);\n",
              "    box-shadow: 0 1px 2px rgba(60, 64, 67, 0.3), 0 1px 3px 1px rgba(60, 64, 67, 0.15);\n",
              "    fill: var(--button-hover-fill-color);\n",
              "  }\n",
              "\n",
              "  .colab-df-quickchart-complete:disabled,\n",
              "  .colab-df-quickchart-complete:disabled:hover {\n",
              "    background-color: var(--disabled-bg-color);\n",
              "    fill: var(--disabled-fill-color);\n",
              "    box-shadow: none;\n",
              "  }\n",
              "\n",
              "  .colab-df-spinner {\n",
              "    border: 2px solid var(--fill-color);\n",
              "    border-color: transparent;\n",
              "    border-bottom-color: var(--fill-color);\n",
              "    animation:\n",
              "      spin 1s steps(1) infinite;\n",
              "  }\n",
              "\n",
              "  @keyframes spin {\n",
              "    0% {\n",
              "      border-color: transparent;\n",
              "      border-bottom-color: var(--fill-color);\n",
              "      border-left-color: var(--fill-color);\n",
              "    }\n",
              "    20% {\n",
              "      border-color: transparent;\n",
              "      border-left-color: var(--fill-color);\n",
              "      border-top-color: var(--fill-color);\n",
              "    }\n",
              "    30% {\n",
              "      border-color: transparent;\n",
              "      border-left-color: var(--fill-color);\n",
              "      border-top-color: var(--fill-color);\n",
              "      border-right-color: var(--fill-color);\n",
              "    }\n",
              "    40% {\n",
              "      border-color: transparent;\n",
              "      border-right-color: var(--fill-color);\n",
              "      border-top-color: var(--fill-color);\n",
              "    }\n",
              "    60% {\n",
              "      border-color: transparent;\n",
              "      border-right-color: var(--fill-color);\n",
              "    }\n",
              "    80% {\n",
              "      border-color: transparent;\n",
              "      border-right-color: var(--fill-color);\n",
              "      border-bottom-color: var(--fill-color);\n",
              "    }\n",
              "    90% {\n",
              "      border-color: transparent;\n",
              "      border-bottom-color: var(--fill-color);\n",
              "    }\n",
              "  }\n",
              "</style>\n",
              "\n",
              "  <script>\n",
              "    async function quickchart(key) {\n",
              "      const quickchartButtonEl =\n",
              "        document.querySelector('#' + key + ' button');\n",
              "      quickchartButtonEl.disabled = true;  // To prevent multiple clicks.\n",
              "      quickchartButtonEl.classList.add('colab-df-spinner');\n",
              "      try {\n",
              "        const charts = await google.colab.kernel.invokeFunction(\n",
              "            'suggestCharts', [key], {});\n",
              "      } catch (error) {\n",
              "        console.error('Error during call to suggestCharts:', error);\n",
              "      }\n",
              "      quickchartButtonEl.classList.remove('colab-df-spinner');\n",
              "      quickchartButtonEl.classList.add('colab-df-quickchart-complete');\n",
              "    }\n",
              "    (() => {\n",
              "      let quickchartButtonEl =\n",
              "        document.querySelector('#df-fd614eb1-6472-4f5c-b772-ae49bed885ab button');\n",
              "      quickchartButtonEl.style.display =\n",
              "        google.colab.kernel.accessAllowed ? 'block' : 'none';\n",
              "    })();\n",
              "  </script>\n",
              "</div>\n",
              "    </div>\n",
              "  </div>\n"
            ],
            "text/plain": [
              "      ID  Chapter  Verse                                             Shloka  \\\n",
              "0  BG1.1        1      1  धृतराष्ट्र उवाच |\\nधर्मक्षेत्रे कुरुक्षेत्रे स...   \n",
              "1  BG1.2        1      2  सञ्जय उवाच |\\nदृष्ट्वा तु पाण्डवानीकं व्यूढं द...   \n",
              "2  BG1.3        1      3  पश्यैतां पाण्डुपुत्राणामाचार्य महतीं चमूम् |\\n...   \n",
              "3  BG1.4        1      4  अत्र शूरा महेष्वासा भीमार्जुनसमा युधि |\\nयुयुध...   \n",
              "4  BG1.5        1      5  धृष्टकेतुश्चेकितानः काशिराजश्च वीर्यवान् |\\nपु...   \n",
              "\n",
              "                                     Transliteration  \\\n",
              "0  dhṛtarāṣṭra uvāca .\\ndharmakṣetre kurukṣetre s...   \n",
              "1  sañjaya uvāca .\\ndṛṣṭvā tu pāṇḍavānīkaṃ vyūḍha...   \n",
              "2  paśyaitāṃ pāṇḍuputrāṇāmācārya mahatīṃ camūm .\\...   \n",
              "3  atra śūrā maheṣvāsā bhīmārjunasamā yudhi .\\nyu...   \n",
              "4  dhṛṣṭaketuścekitānaḥ kāśirājaśca vīryavān .\\np...   \n",
              "\n",
              "                                          HinMeaning  \\\n",
              "0  ।।1.1।।धृतराष्ट्र ने कहा -- हे संजय ! धर्मभूमि...   \n",
              "1  ।।1.2।।संजय ने कहा -- पाण्डव-सैन्य की व्यूह रच...   \n",
              "2  ।।1.3।।हे आचार्य ! आपके बुद्धिमान शिष्य द्रुपद...   \n",
              "3  ।।1.4।।इस सेना में महान् धनुर्धारी शूर योद्धा ...   \n",
              "4  ।।1.5।।धृष्टकेतु, चेकितान, बलवान काशिराज,  पुर...   \n",
              "\n",
              "                                          EngMeaning  \\\n",
              "0  1.1 Dhritarashtra said  What did my people and...   \n",
              "1  1.2. Sanjaya said  Having seen the army of the...   \n",
              "2  1.3. \"Behold, O Teacher! this mighty army of t...   \n",
              "3  1.4. Here are heroes, mighty archers, eal in b...   \n",
              "4  1.5. \"Dhrishtaketu, chekitana and the valiant ...   \n",
              "\n",
              "                                         WordMeaning  \n",
              "0  1.1 धर्मक्षेत्रे on the holy plain? कुरुक्षेत्...  \n",
              "1  1.2 दृष्ट्वा having seen? तु indeed? पाण्डवानी...  \n",
              "2  1.3 पश्य behold? एताम् this? पाण्डुपुत्राणाम् ...  \n",
              "3  1.4 अत्र here? शूराः heroes? महेष्वासाः mighty...  \n",
              "4  1.5 धृष्टकेतुः Dhrishtaketu? चेकितानः Chekitan...  "
            ]
          },
          "execution_count": 16,
          "metadata": {},
          "output_type": "execute_result"
        }
      ],
      "source": [
        "df.head()"
      ]
    },
    {
      "cell_type": "code",
      "execution_count": null,
      "metadata": {
        "id": "X9GxnST_UWTW"
      },
      "outputs": [],
      "source": [
        "Shlokas = df['Shloka'].values\n",
        "Hindi = df['HinMeaning'].values\n",
        "English=df['EngMeaning'].values"
      ]
    },
    {
      "cell_type": "code",
      "execution_count": null,
      "metadata": {
        "id": "JvwxAC9AkaQZ"
      },
      "outputs": [],
      "source": [
        "import nltk\n",
        "from nltk.translate.bleu_score import corpus_bleu"
      ]
    },
    {
      "cell_type": "markdown",
      "metadata": {
        "id": "RKv6edaci70h"
      },
      "source": [
        "###Hindi To English\n",
        "\n",
        "BLEU score: 0.4826\n",
        "\n",
        "Time Taken: 17.16355501399994"
      ]
    },
    {
      "cell_type": "code",
      "execution_count": null,
      "metadata": {
        "colab": {
          "base_uri": "https://localhost:8080/"
        },
        "id": "1Jv407y3XMbt",
        "outputId": "104f9e34-131e-432e-ece1-d2d22f867aa2"
      },
      "outputs": [
        {
          "name": "stdout",
          "output_type": "stream",
          "text": [
            "17.16355501399994\n"
          ]
        }
      ],
      "source": [
        "start = timer()\n",
        "translatedHinEng=[]\n",
        "for shloka in Hindi:\n",
        "    translated_shloka=translator.translate(shloka, src='hi', dest='en').text\n",
        "    translatedHinEng.append(translated_shloka)\n",
        "end = timer()\n",
        "print(end - start)"
      ]
    },
    {
      "cell_type": "code",
      "execution_count": null,
      "metadata": {
        "id": "wlz2zPieYdtn"
      },
      "outputs": [],
      "source": [
        "comaparision = pd.DataFrame({'Original': English, 'Translated': translatedHinEng})"
      ]
    },
    {
      "cell_type": "code",
      "execution_count": null,
      "metadata": {
        "id": "yACZQe9jZ4x0"
      },
      "outputs": [],
      "source": [
        "comaparision.to_csv('/content/BG_Translated_Hin_Eng.csv', index=False)"
      ]
    },
    {
      "cell_type": "code",
      "execution_count": null,
      "metadata": {
        "colab": {
          "base_uri": "https://localhost:8080/"
        },
        "id": "W8HAqWz9kePM",
        "outputId": "4905c715-037c-4b64-a84c-0e63a279862a"
      },
      "outputs": [
        {
          "name": "stdout",
          "output_type": "stream",
          "text": [
            "BLEU score: 0.4826\n"
          ]
        }
      ],
      "source": [
        "references = [[english] for english in English]\n",
        "candidates = translatedHinEng\n",
        "bleu_score = corpus_bleu(references, candidates)\n",
        "print(f\"BLEU score: {bleu_score:.4f}\")"
      ]
    },
    {
      "cell_type": "markdown",
      "metadata": {
        "id": "Qt-eWfpYd34B"
      },
      "source": []
    },
    {
      "cell_type": "markdown",
      "metadata": {
        "id": "3DmYIe6mjBGF"
      },
      "source": [
        "\n",
        "###Sanskrit To English\n",
        "\n",
        "BLEU score: 0.5176\n",
        "\n",
        "Time Taken:15.854723451999917"
      ]
    },
    {
      "cell_type": "code",
      "execution_count": null,
      "metadata": {
        "colab": {
          "base_uri": "https://localhost:8080/"
        },
        "id": "x_fGYbxBhWXq",
        "outputId": "8c715d2e-8fd0-4a83-fc1a-9592444e83d4"
      },
      "outputs": [
        {
          "name": "stdout",
          "output_type": "stream",
          "text": [
            "15.854723451999917\n"
          ]
        }
      ],
      "source": [
        "start = timer()\n",
        "translatedSansEng=[]\n",
        "for shloka in Shlokas:\n",
        "    translated_shloka=translator.translate(shloka, src='auto', dest='en').text\n",
        "    translatedSansEng.append(translated_shloka)\n",
        "end = timer()\n",
        "print(end - start)"
      ]
    },
    {
      "cell_type": "code",
      "execution_count": null,
      "metadata": {
        "id": "xj8CxyqIhWOD"
      },
      "outputs": [],
      "source": [
        "comaparision = pd.DataFrame({'Original': English, 'Translated': translatedSansEng})"
      ]
    },
    {
      "cell_type": "code",
      "execution_count": null,
      "metadata": {
        "id": "djWaHWjRhV_5"
      },
      "outputs": [],
      "source": [
        "comaparision.to_csv('/content/BG_Translated_Sanskrit_Eng.csv', index=False)"
      ]
    },
    {
      "cell_type": "code",
      "execution_count": null,
      "metadata": {
        "colab": {
          "base_uri": "https://localhost:8080/"
        },
        "id": "eU7EgxgAkmHh",
        "outputId": "db0a64a3-2672-40da-cbe3-ef5c408c6442"
      },
      "outputs": [
        {
          "name": "stdout",
          "output_type": "stream",
          "text": [
            "BLEU score: 0.5176\n"
          ]
        }
      ],
      "source": [
        "references = [[english] for english in English]\n",
        "candidates = translatedSansEng\n",
        "bleu_score = corpus_bleu(references, candidates)\n",
        "print(f\"BLEU score: {bleu_score:.4f}\")"
      ]
    },
    {
      "cell_type": "markdown",
      "metadata": {
        "id": "twHH5_5IjFN9"
      },
      "source": [
        "###English To Hindi\n",
        "\n",
        "BLEU score: 0.4724\n",
        "\n",
        "Time Taken: 73.39043470799993"
      ]
    },
    {
      "cell_type": "code",
      "execution_count": null,
      "metadata": {
        "colab": {
          "base_uri": "https://localhost:8080/"
        },
        "id": "lvU-ayboiMwg",
        "outputId": "537099c4-5ecc-4281-e35b-6aa31308d071"
      },
      "outputs": [
        {
          "name": "stdout",
          "output_type": "stream",
          "text": [
            "73.39043470799993\n"
          ]
        }
      ],
      "source": [
        "start = timer()\n",
        "translatedEngHin=[]\n",
        "for shloka in English:\n",
        "    translated_shloka=translator.translate(shloka, src='en', dest='hi').text\n",
        "    translatedEngHin.append(translated_shloka)\n",
        "end = timer()\n",
        "print(end - start)"
      ]
    },
    {
      "cell_type": "code",
      "execution_count": null,
      "metadata": {
        "id": "kqV4tjCQh-AC"
      },
      "outputs": [],
      "source": [
        "comaparision = pd.DataFrame({'Original': English, 'Translated': translatedSansEng})\n",
        "comaparision.to_csv('/content/BG_Translated_Eng_Hin.csv', index=False)"
      ]
    },
    {
      "cell_type": "code",
      "execution_count": null,
      "metadata": {
        "colab": {
          "base_uri": "https://localhost:8080/"
        },
        "id": "GDQx0vopioaA",
        "outputId": "9edf0678-6385-4140-cc2f-168d897c95d9"
      },
      "outputs": [
        {
          "name": "stdout",
          "output_type": "stream",
          "text": [
            "BLEU score: 0.4724\n"
          ]
        }
      ],
      "source": [
        "references = [[hindi] for hindi in Hindi]\n",
        "candidates = translatedEngHin\n",
        "bleu_score = corpus_bleu(references, candidates)\n",
        "print(f\"BLEU score: {bleu_score:.4f}\")"
      ]
    },
    {
      "cell_type": "markdown",
      "metadata": {
        "id": "TTg_8rbrlg12"
      },
      "source": [
        "###Sanskrit To Hindi\n",
        "\n",
        "BLEU score: 0.4052\n",
        "\n",
        "Time Taken:29.412445610999384"
      ]
    },
    {
      "cell_type": "code",
      "execution_count": null,
      "metadata": {
        "colab": {
          "base_uri": "https://localhost:8080/"
        },
        "id": "GpJVQzS9lghT",
        "outputId": "4f13d1cf-9a21-4a0e-8b73-8ec4648646d4"
      },
      "outputs": [
        {
          "name": "stdout",
          "output_type": "stream",
          "text": [
            "29.412445610999384\n"
          ]
        }
      ],
      "source": [
        "start = timer()\n",
        "translatedSansHin=[]\n",
        "for shloka in Shlokas:\n",
        "    translated_shloka=translator.translate(shloka, src='auto', dest='hi').text\n",
        "    translatedSansHin.append(translated_shloka)\n",
        "end = timer()\n",
        "print(end - start)"
      ]
    },
    {
      "cell_type": "code",
      "execution_count": null,
      "metadata": {
        "id": "e_1EQLJttmlR"
      },
      "outputs": [],
      "source": [
        "comaparision = pd.DataFrame({'Original': English, 'Translated': translatedSansHin})\n",
        "comaparision.to_csv('/content/BG_Translated_Sans_Hin.csv', index=False)"
      ]
    },
    {
      "cell_type": "code",
      "execution_count": null,
      "metadata": {
        "colab": {
          "base_uri": "https://localhost:8080/"
        },
        "id": "CTG_PeoQtfOK",
        "outputId": "62aa30d4-53a2-47db-eadb-38bc15a414be"
      },
      "outputs": [
        {
          "name": "stdout",
          "output_type": "stream",
          "text": [
            "BLEU score: 0.4052\n"
          ]
        }
      ],
      "source": [
        "references = [[hindi] for hindi in Hindi]\n",
        "candidates = translatedSansHin\n",
        "bleu_score = corpus_bleu(references, candidates)\n",
        "print(f\"BLEU score: {bleu_score:.4f}\")"
      ]
    },
    {
      "cell_type": "markdown",
      "metadata": {
        "id": "50r-12YpoMuy"
      },
      "source": [
        "###English To Sanskrit\n",
        "\n",
        "*NOT SUPPORTED*\n",
        "\n",
        "Time Taken:"
      ]
    },
    {
      "cell_type": "code",
      "execution_count": null,
      "metadata": {
        "id": "HKGwO_RFoZu2"
      },
      "outputs": [],
      "source": []
    },
    {
      "cell_type": "markdown",
      "metadata": {
        "id": "FCACIMH4oarU"
      },
      "source": [
        "###Hindi To Sanskrit\n",
        "\n",
        "*NOT SUPPORTED*\n",
        "\n",
        "Time Taken:"
      ]
    },
    {
      "cell_type": "code",
      "execution_count": null,
      "metadata": {
        "id": "E-yLtmuwqw_6"
      },
      "outputs": [],
      "source": []
    },
    {
      "cell_type": "code",
      "execution_count": null,
      "metadata": {
        "id": "uwqR9BLjoexi"
      },
      "outputs": [],
      "source": []
    },
    {
      "cell_type": "code",
      "execution_count": null,
      "metadata": {
        "id": "q88EaRPFq4iu"
      },
      "outputs": [],
      "source": []
    },
    {
      "cell_type": "code",
      "execution_count": null,
      "metadata": {
        "id": "SXgaZpzhrjh1"
      },
      "outputs": [],
      "source": []
    },
    {
      "cell_type": "code",
      "execution_count": null,
      "metadata": {
        "id": "NYN2KULkrlWj"
      },
      "outputs": [],
      "source": []
    },
    {
      "cell_type": "code",
      "execution_count": null,
      "metadata": {
        "id": "CX3fDp1UsxfR"
      },
      "outputs": [],
      "source": []
    },
    {
      "cell_type": "code",
      "execution_count": null,
      "metadata": {
        "id": "_6sgNB2ysxcJ"
      },
      "outputs": [],
      "source": []
    },
    {
      "cell_type": "markdown",
      "metadata": {
        "id": "Y01GjsnUsyNZ"
      },
      "source": [
        "##IIT BOMBAY HINDI ENGLISH **CORPUS**"
      ]
    },
    {
      "cell_type": "code",
      "execution_count": null,
      "metadata": {
        "colab": {
          "base_uri": "https://localhost:8080/"
        },
        "id": "nopyCzelybHe",
        "outputId": "a2ab2a6a-2f05-4522-a938-0c022668ba5d"
      },
      "outputs": [
        {
          "output_type": "stream",
          "name": "stdout",
          "text": [
            "Requirement already satisfied: transformers in /usr/local/lib/python3.10/dist-packages (4.38.2)\n",
            "Requirement already satisfied: filelock in /usr/local/lib/python3.10/dist-packages (from transformers) (3.13.4)\n",
            "Requirement already satisfied: huggingface-hub<1.0,>=0.19.3 in /usr/local/lib/python3.10/dist-packages (from transformers) (0.20.3)\n",
            "Requirement already satisfied: numpy>=1.17 in /usr/local/lib/python3.10/dist-packages (from transformers) (1.25.2)\n",
            "Requirement already satisfied: packaging>=20.0 in /usr/local/lib/python3.10/dist-packages (from transformers) (24.0)\n",
            "Requirement already satisfied: pyyaml>=5.1 in /usr/local/lib/python3.10/dist-packages (from transformers) (6.0.1)\n",
            "Requirement already satisfied: regex!=2019.12.17 in /usr/local/lib/python3.10/dist-packages (from transformers) (2023.12.25)\n",
            "Requirement already satisfied: requests in /usr/local/lib/python3.10/dist-packages (from transformers) (2.31.0)\n",
            "Requirement already satisfied: tokenizers<0.19,>=0.14 in /usr/local/lib/python3.10/dist-packages (from transformers) (0.15.2)\n",
            "Requirement already satisfied: safetensors>=0.4.1 in /usr/local/lib/python3.10/dist-packages (from transformers) (0.4.2)\n",
            "Requirement already satisfied: tqdm>=4.27 in /usr/local/lib/python3.10/dist-packages (from transformers) (4.66.2)\n",
            "Requirement already satisfied: fsspec>=2023.5.0 in /usr/local/lib/python3.10/dist-packages (from huggingface-hub<1.0,>=0.19.3->transformers) (2023.6.0)\n",
            "Requirement already satisfied: typing-extensions>=3.7.4.3 in /usr/local/lib/python3.10/dist-packages (from huggingface-hub<1.0,>=0.19.3->transformers) (4.11.0)\n",
            "Requirement already satisfied: charset-normalizer<4,>=2 in /usr/local/lib/python3.10/dist-packages (from requests->transformers) (3.3.2)\n",
            "Requirement already satisfied: idna<4,>=2.5 in /usr/local/lib/python3.10/dist-packages (from requests->transformers) (2.10)\n",
            "Requirement already satisfied: urllib3<3,>=1.21.1 in /usr/local/lib/python3.10/dist-packages (from requests->transformers) (2.0.7)\n",
            "Requirement already satisfied: certifi>=2017.4.17 in /usr/local/lib/python3.10/dist-packages (from requests->transformers) (2024.2.2)\n",
            "Collecting datasets\n",
            "  Downloading datasets-2.18.0-py3-none-any.whl (510 kB)\n",
            "\u001b[2K     \u001b[90m━━━━━━━━━━━━━━━━━━━━━━━━━━━━━━━━━━━━━━━━\u001b[0m \u001b[32m510.5/510.5 kB\u001b[0m \u001b[31m2.7 MB/s\u001b[0m eta \u001b[36m0:00:00\u001b[0m\n",
            "\u001b[?25hRequirement already satisfied: transformers[sentencepiece] in /usr/local/lib/python3.10/dist-packages (4.38.2)\n",
            "Collecting sacrebleu\n",
            "  Downloading sacrebleu-2.4.1-py3-none-any.whl (106 kB)\n",
            "\u001b[2K     \u001b[90m━━━━━━━━━━━━━━━━━━━━━━━━━━━━━━━━━━━━━━━━\u001b[0m \u001b[32m106.6/106.6 kB\u001b[0m \u001b[31m10.6 MB/s\u001b[0m eta \u001b[36m0:00:00\u001b[0m\n",
            "\u001b[?25hRequirement already satisfied: filelock in /usr/local/lib/python3.10/dist-packages (from datasets) (3.13.4)\n",
            "Requirement already satisfied: numpy>=1.17 in /usr/local/lib/python3.10/dist-packages (from datasets) (1.25.2)\n",
            "Requirement already satisfied: pyarrow>=12.0.0 in /usr/local/lib/python3.10/dist-packages (from datasets) (14.0.2)\n",
            "Requirement already satisfied: pyarrow-hotfix in /usr/local/lib/python3.10/dist-packages (from datasets) (0.6)\n",
            "Collecting dill<0.3.9,>=0.3.0 (from datasets)\n",
            "  Downloading dill-0.3.8-py3-none-any.whl (116 kB)\n",
            "\u001b[2K     \u001b[90m━━━━━━━━━━━━━━━━━━━━━━━━━━━━━━━━━━━━━━━━\u001b[0m \u001b[32m116.3/116.3 kB\u001b[0m \u001b[31m14.4 MB/s\u001b[0m eta \u001b[36m0:00:00\u001b[0m\n",
            "\u001b[?25hRequirement already satisfied: pandas in /usr/local/lib/python3.10/dist-packages (from datasets) (2.0.3)\n",
            "Requirement already satisfied: requests>=2.19.0 in /usr/local/lib/python3.10/dist-packages (from datasets) (2.31.0)\n",
            "Requirement already satisfied: tqdm>=4.62.1 in /usr/local/lib/python3.10/dist-packages (from datasets) (4.66.2)\n",
            "Collecting xxhash (from datasets)\n",
            "  Downloading xxhash-3.4.1-cp310-cp310-manylinux_2_17_x86_64.manylinux2014_x86_64.whl (194 kB)\n",
            "\u001b[2K     \u001b[90m━━━━━━━━━━━━━━━━━━━━━━━━━━━━━━━━━━━━━━━━\u001b[0m \u001b[32m194.1/194.1 kB\u001b[0m \u001b[31m19.5 MB/s\u001b[0m eta \u001b[36m0:00:00\u001b[0m\n",
            "\u001b[?25hCollecting multiprocess (from datasets)\n",
            "  Downloading multiprocess-0.70.16-py310-none-any.whl (134 kB)\n",
            "\u001b[2K     \u001b[90m━━━━━━━━━━━━━━━━━━━━━━━━━━━━━━━━━━━━━━━━\u001b[0m \u001b[32m134.8/134.8 kB\u001b[0m \u001b[31m16.3 MB/s\u001b[0m eta \u001b[36m0:00:00\u001b[0m\n",
            "\u001b[?25hRequirement already satisfied: fsspec[http]<=2024.2.0,>=2023.1.0 in /usr/local/lib/python3.10/dist-packages (from datasets) (2023.6.0)\n",
            "Requirement already satisfied: aiohttp in /usr/local/lib/python3.10/dist-packages (from datasets) (3.9.3)\n",
            "Requirement already satisfied: huggingface-hub>=0.19.4 in /usr/local/lib/python3.10/dist-packages (from datasets) (0.20.3)\n",
            "Requirement already satisfied: packaging in /usr/local/lib/python3.10/dist-packages (from datasets) (24.0)\n",
            "Requirement already satisfied: pyyaml>=5.1 in /usr/local/lib/python3.10/dist-packages (from datasets) (6.0.1)\n",
            "Requirement already satisfied: regex!=2019.12.17 in /usr/local/lib/python3.10/dist-packages (from transformers[sentencepiece]) (2023.12.25)\n",
            "Requirement already satisfied: tokenizers<0.19,>=0.14 in /usr/local/lib/python3.10/dist-packages (from transformers[sentencepiece]) (0.15.2)\n",
            "Requirement already satisfied: safetensors>=0.4.1 in /usr/local/lib/python3.10/dist-packages (from transformers[sentencepiece]) (0.4.2)\n",
            "Requirement already satisfied: sentencepiece!=0.1.92,>=0.1.91 in /usr/local/lib/python3.10/dist-packages (from transformers[sentencepiece]) (0.1.99)\n",
            "Requirement already satisfied: protobuf in /usr/local/lib/python3.10/dist-packages (from transformers[sentencepiece]) (3.20.3)\n",
            "Collecting portalocker (from sacrebleu)\n",
            "  Downloading portalocker-2.8.2-py3-none-any.whl (17 kB)\n",
            "Requirement already satisfied: tabulate>=0.8.9 in /usr/local/lib/python3.10/dist-packages (from sacrebleu) (0.9.0)\n",
            "Collecting colorama (from sacrebleu)\n",
            "  Downloading colorama-0.4.6-py2.py3-none-any.whl (25 kB)\n",
            "Requirement already satisfied: lxml in /usr/local/lib/python3.10/dist-packages (from sacrebleu) (4.9.4)\n",
            "Requirement already satisfied: aiosignal>=1.1.2 in /usr/local/lib/python3.10/dist-packages (from aiohttp->datasets) (1.3.1)\n",
            "Requirement already satisfied: attrs>=17.3.0 in /usr/local/lib/python3.10/dist-packages (from aiohttp->datasets) (23.2.0)\n",
            "Requirement already satisfied: frozenlist>=1.1.1 in /usr/local/lib/python3.10/dist-packages (from aiohttp->datasets) (1.4.1)\n",
            "Requirement already satisfied: multidict<7.0,>=4.5 in /usr/local/lib/python3.10/dist-packages (from aiohttp->datasets) (6.0.5)\n",
            "Requirement already satisfied: yarl<2.0,>=1.0 in /usr/local/lib/python3.10/dist-packages (from aiohttp->datasets) (1.9.4)\n",
            "Requirement already satisfied: async-timeout<5.0,>=4.0 in /usr/local/lib/python3.10/dist-packages (from aiohttp->datasets) (4.0.3)\n",
            "Requirement already satisfied: typing-extensions>=3.7.4.3 in /usr/local/lib/python3.10/dist-packages (from huggingface-hub>=0.19.4->datasets) (4.11.0)\n",
            "Requirement already satisfied: charset-normalizer<4,>=2 in /usr/local/lib/python3.10/dist-packages (from requests>=2.19.0->datasets) (3.3.2)\n",
            "Requirement already satisfied: idna<4,>=2.5 in /usr/local/lib/python3.10/dist-packages (from requests>=2.19.0->datasets) (2.10)\n",
            "Requirement already satisfied: urllib3<3,>=1.21.1 in /usr/local/lib/python3.10/dist-packages (from requests>=2.19.0->datasets) (2.0.7)\n",
            "Requirement already satisfied: certifi>=2017.4.17 in /usr/local/lib/python3.10/dist-packages (from requests>=2.19.0->datasets) (2024.2.2)\n",
            "Requirement already satisfied: python-dateutil>=2.8.2 in /usr/local/lib/python3.10/dist-packages (from pandas->datasets) (2.8.2)\n",
            "Requirement already satisfied: pytz>=2020.1 in /usr/local/lib/python3.10/dist-packages (from pandas->datasets) (2023.4)\n",
            "Requirement already satisfied: tzdata>=2022.1 in /usr/local/lib/python3.10/dist-packages (from pandas->datasets) (2024.1)\n",
            "Requirement already satisfied: six>=1.5 in /usr/local/lib/python3.10/dist-packages (from python-dateutil>=2.8.2->pandas->datasets) (1.16.0)\n",
            "Installing collected packages: xxhash, portalocker, dill, colorama, sacrebleu, multiprocess, datasets\n",
            "Successfully installed colorama-0.4.6 datasets-2.18.0 dill-0.3.8 multiprocess-0.70.16 portalocker-2.8.2 sacrebleu-2.4.1 xxhash-3.4.1\n"
          ]
        }
      ],
      "source": [
        "!pip install transformers\n",
        "!pip install datasets transformers[sentencepiece] sacrebleu"
      ]
    },
    {
      "cell_type": "code",
      "execution_count": null,
      "metadata": {
        "id": "5L2UWPUsyjwM"
      },
      "outputs": [],
      "source": [
        "from datasets import load_dataset\n",
        "import tensorflow as tf\n",
        "import pandas as pd\n",
        "import numpy as np"
      ]
    },
    {
      "cell_type": "code",
      "execution_count": null,
      "metadata": {
        "id": "HZL9v97Ys35A"
      },
      "outputs": [],
      "source": [
        "model_path = \"Helsinki-NLP/opus-mt-en-hi\"\n",
        "dataset_path = \"cfilt/iitb-english-hindi\""
      ]
    },
    {
      "cell_type": "code",
      "execution_count": null,
      "metadata": {
        "id": "OsFJpTspyR6K"
      },
      "outputs": [],
      "source": [
        "train = load_dataset(dataset_path, split= \"train\")\n",
        "val = load_dataset(dataset_path, split = \"test\")"
      ]
    },
    {
      "cell_type": "code",
      "execution_count": null,
      "metadata": {
        "colab": {
          "base_uri": "https://localhost:8080/"
        },
        "id": "Bkl8m5kmyX7h",
        "outputId": "5cbabe4b-fc0a-4648-d41c-10996173b5d3"
      },
      "outputs": [
        {
          "output_type": "execute_result",
          "data": {
            "text/plain": [
              "Dataset({\n",
              "    features: ['translation'],\n",
              "    num_rows: 1659083\n",
              "})"
            ]
          },
          "metadata": {},
          "execution_count": 16
        }
      ],
      "source": [
        "train"
      ]
    },
    {
      "cell_type": "code",
      "execution_count": null,
      "metadata": {
        "colab": {
          "base_uri": "https://localhost:8080/"
        },
        "id": "Ua3yhQBSy0vM",
        "outputId": "837f3f83-883a-4ecd-817d-2703c858d25c"
      },
      "outputs": [
        {
          "output_type": "execute_result",
          "data": {
            "text/plain": [
              "[{'en': 'Give your application an accessibility workout',\n",
              "  'hi': 'अपने अनुप्रयोग को पहुंचनीयता व्यायाम का लाभ दें'},\n",
              " {'en': 'Accerciser Accessibility Explorer',\n",
              "  'hi': 'एक्सेर्साइसर पहुंचनीयता अन्वेषक'},\n",
              " {'en': 'The default plugin layout for the bottom panel',\n",
              "  'hi': 'निचले पटल के लिए डिफोल्ट प्लग-इन खाका'},\n",
              " {'en': 'The default plugin layout for the top panel',\n",
              "  'hi': 'ऊपरी पटल के लिए डिफोल्ट प्लग-इन खाका'},\n",
              " {'en': 'A list of plugins that are disabled by default',\n",
              "  'hi': 'उन प्लग-इनों की सूची जिन्हें डिफोल्ट रूप से निष्क्रिय किया गया है'}]"
            ]
          },
          "metadata": {},
          "execution_count": 17
        }
      ],
      "source": [
        "train['translation'][:5]"
      ]
    },
    {
      "cell_type": "code",
      "execution_count": null,
      "metadata": {
        "colab": {
          "base_uri": "https://localhost:8080/"
        },
        "id": "c9dw3SGPy5El",
        "outputId": "1285a7e9-8fd5-4924-ec38-cc14842edbe3"
      },
      "outputs": [
        {
          "output_type": "stream",
          "name": "stdout",
          "text": [
            "Give your application an accessibility workout\n",
            "अपने अनुप्रयोग को पहुंचनीयता व्यायाम का लाभ दें\n"
          ]
        }
      ],
      "source": [
        "print(train['translation'][0]['en'])\n",
        "print(train['translation'][0]['hi'])"
      ]
    },
    {
      "cell_type": "code",
      "execution_count": null,
      "metadata": {
        "id": "SOjdxTLPy-vG"
      },
      "outputs": [],
      "source": [
        "english_sentences = [item['en'] for item in train['translation']]\n",
        "hindi_sentences = [item['hi'] for item in train['translation']]"
      ]
    },
    {
      "cell_type": "code",
      "execution_count": null,
      "metadata": {
        "id": "hU-1tz_B03b0"
      },
      "outputs": [],
      "source": [
        "from timeit import default_timer as timer\n",
        "import streamlit as st\n",
        "import googletrans\n",
        "from googletrans import Translator"
      ]
    },
    {
      "cell_type": "code",
      "execution_count": null,
      "metadata": {
        "id": "6CZLvLoSzFUX"
      },
      "outputs": [],
      "source": [
        "start = timer()\n",
        "translatedEngHin=[]\n",
        "for eng in english_sentences:\n",
        "    translated_eng=translator.translate(eng, src='en', dest='hi').text\n",
        "    translatedEngHin.append(translated_eng)\n",
        "end = timer()\n",
        "print(end - start)"
      ]
    },
    {
      "cell_type": "code",
      "execution_count": null,
      "metadata": {
        "id": "Xb81KFuW0HqG"
      },
      "outputs": [],
      "source": [
        "comaparision = pd.DataFrame({'Original': english_sentences, 'Translated': translatedEngHin})\n",
        "comaparision.to_csv('/content/IITB_Translated.csv', index=False)"
      ]
    },
    {
      "cell_type": "code",
      "execution_count": null,
      "metadata": {
        "id": "ELsHbs6b0b6I"
      },
      "outputs": [],
      "source": [
        "references = [[hindi] for hindi in hindi_sentences]\n",
        "candidates = translatedEngHin\n",
        "bleu_score = corpus_bleu(references, candidates)\n",
        "print(f\"BLEU score: {bleu_score:.4f}\")"
      ]
    },
    {
      "cell_type": "code",
      "execution_count": null,
      "metadata": {
        "id": "uTRYO_cg1rDI"
      },
      "outputs": [],
      "source": []
    }
  ],
  "metadata": {
    "accelerator": "GPU",
    "colab": {
      "gpuType": "T4",
      "provenance": []
    },
    "kernelspec": {
      "display_name": "Python 3",
      "name": "python3"
    },
    "language_info": {
      "name": "python"
    }
  },
  "nbformat": 4,
  "nbformat_minor": 0
}